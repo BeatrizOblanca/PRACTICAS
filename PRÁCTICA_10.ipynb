{
  "cells": [
    {
      "cell_type": "markdown",
      "source": [
        "# Clasificación con KNN"
      ],
      "metadata": {
        "id": "x_nWSDzOak_R"
      }
    },
    {
      "cell_type": "code",
      "execution_count": null,
      "metadata": {
        "id": "C2bCm0lLldDd"
      },
      "outputs": [],
      "source": [
        "import matplotlib.pyplot as plt\n",
        "import pandas as pd\n",
        "import numpy as np\n",
        "from sklearn import preprocessing\n",
        "%matplotlib inline"
      ]
    },
    {
      "cell_type": "markdown",
      "source": [
        "### Acceso a Google Drive"
      ],
      "metadata": {
        "id": "Rgc-XrWkauEo"
      }
    },
    {
      "cell_type": "code",
      "source": [
        "from google.colab import drive\n",
        "drive.mount('/content/drive')"
      ],
      "metadata": {
        "colab": {
          "base_uri": "https://localhost:8080/"
        },
        "id": "kQXV3Z_Slm9P",
        "outputId": "4dfd2cc7-f6cf-4aee-e854-624426d374ef"
      },
      "execution_count": null,
      "outputs": [
        {
          "output_type": "stream",
          "name": "stdout",
          "text": [
            "Drive already mounted at /content/drive; to attempt to forcibly remount, call drive.mount(\"/content/drive\", force_remount=True).\n"
          ]
        }
      ]
    },
    {
      "cell_type": "markdown",
      "source": [
        "### Cargar del dataset *clientes.csv* en un dataframe y mostrar las primeras 5 líneas"
      ],
      "metadata": {
        "id": "y7JTyNvxazAb"
      }
    },
    {
      "cell_type": "code",
      "execution_count": null,
      "metadata": {
        "colab": {
          "base_uri": "https://localhost:8080/",
          "height": 206
        },
        "id": "pM-BZme9ldDj",
        "outputId": "cef9a7c3-a38d-4a2c-ec72-d51c70a3d361"
      },
      "outputs": [
        {
          "output_type": "execute_result",
          "data": {
            "text/plain": [
              "   region  antiguedad  edad estado_civil  direccion  ingresos  educacion  \\\n",
              "0     2.0        13.0    44           Sí        9.0      64.0          4   \n",
              "1     3.0        11.0    33           Sí        7.0     136.0          5   \n",
              "2     3.0        68.0    52            1       24.0     116.0          1   \n",
              "3     2.0        33.0    33            0       12.0      33.0          2   \n",
              "4     2.0        23.0    30            1        9.0      30.0          1   \n",
              "\n",
              "    uso  retiro  sexo  res  categoria  \n",
              "0   5.0     0.0     0    2          1  \n",
              "1   5.0     0.0     0    6          4  \n",
              "2  29.0     0.0     1    2          3  \n",
              "3   0.0     0.0     1    1          1  \n",
              "4   2.0     0.0     0    4          3  "
            ],
            "text/html": [
              "\n",
              "  <div id=\"df-93e1570a-7b4a-45e5-b3be-e46ab4cafe9e\">\n",
              "    <div class=\"colab-df-container\">\n",
              "      <div>\n",
              "<style scoped>\n",
              "    .dataframe tbody tr th:only-of-type {\n",
              "        vertical-align: middle;\n",
              "    }\n",
              "\n",
              "    .dataframe tbody tr th {\n",
              "        vertical-align: top;\n",
              "    }\n",
              "\n",
              "    .dataframe thead th {\n",
              "        text-align: right;\n",
              "    }\n",
              "</style>\n",
              "<table border=\"1\" class=\"dataframe\">\n",
              "  <thead>\n",
              "    <tr style=\"text-align: right;\">\n",
              "      <th></th>\n",
              "      <th>region</th>\n",
              "      <th>antiguedad</th>\n",
              "      <th>edad</th>\n",
              "      <th>estado_civil</th>\n",
              "      <th>direccion</th>\n",
              "      <th>ingresos</th>\n",
              "      <th>educacion</th>\n",
              "      <th>uso</th>\n",
              "      <th>retiro</th>\n",
              "      <th>sexo</th>\n",
              "      <th>res</th>\n",
              "      <th>categoria</th>\n",
              "    </tr>\n",
              "  </thead>\n",
              "  <tbody>\n",
              "    <tr>\n",
              "      <th>0</th>\n",
              "      <td>2.0</td>\n",
              "      <td>13.0</td>\n",
              "      <td>44</td>\n",
              "      <td>Sí</td>\n",
              "      <td>9.0</td>\n",
              "      <td>64.0</td>\n",
              "      <td>4</td>\n",
              "      <td>5.0</td>\n",
              "      <td>0.0</td>\n",
              "      <td>0</td>\n",
              "      <td>2</td>\n",
              "      <td>1</td>\n",
              "    </tr>\n",
              "    <tr>\n",
              "      <th>1</th>\n",
              "      <td>3.0</td>\n",
              "      <td>11.0</td>\n",
              "      <td>33</td>\n",
              "      <td>Sí</td>\n",
              "      <td>7.0</td>\n",
              "      <td>136.0</td>\n",
              "      <td>5</td>\n",
              "      <td>5.0</td>\n",
              "      <td>0.0</td>\n",
              "      <td>0</td>\n",
              "      <td>6</td>\n",
              "      <td>4</td>\n",
              "    </tr>\n",
              "    <tr>\n",
              "      <th>2</th>\n",
              "      <td>3.0</td>\n",
              "      <td>68.0</td>\n",
              "      <td>52</td>\n",
              "      <td>1</td>\n",
              "      <td>24.0</td>\n",
              "      <td>116.0</td>\n",
              "      <td>1</td>\n",
              "      <td>29.0</td>\n",
              "      <td>0.0</td>\n",
              "      <td>1</td>\n",
              "      <td>2</td>\n",
              "      <td>3</td>\n",
              "    </tr>\n",
              "    <tr>\n",
              "      <th>3</th>\n",
              "      <td>2.0</td>\n",
              "      <td>33.0</td>\n",
              "      <td>33</td>\n",
              "      <td>0</td>\n",
              "      <td>12.0</td>\n",
              "      <td>33.0</td>\n",
              "      <td>2</td>\n",
              "      <td>0.0</td>\n",
              "      <td>0.0</td>\n",
              "      <td>1</td>\n",
              "      <td>1</td>\n",
              "      <td>1</td>\n",
              "    </tr>\n",
              "    <tr>\n",
              "      <th>4</th>\n",
              "      <td>2.0</td>\n",
              "      <td>23.0</td>\n",
              "      <td>30</td>\n",
              "      <td>1</td>\n",
              "      <td>9.0</td>\n",
              "      <td>30.0</td>\n",
              "      <td>1</td>\n",
              "      <td>2.0</td>\n",
              "      <td>0.0</td>\n",
              "      <td>0</td>\n",
              "      <td>4</td>\n",
              "      <td>3</td>\n",
              "    </tr>\n",
              "  </tbody>\n",
              "</table>\n",
              "</div>\n",
              "      <button class=\"colab-df-convert\" onclick=\"convertToInteractive('df-93e1570a-7b4a-45e5-b3be-e46ab4cafe9e')\"\n",
              "              title=\"Convert this dataframe to an interactive table.\"\n",
              "              style=\"display:none;\">\n",
              "        \n",
              "  <svg xmlns=\"http://www.w3.org/2000/svg\" height=\"24px\"viewBox=\"0 0 24 24\"\n",
              "       width=\"24px\">\n",
              "    <path d=\"M0 0h24v24H0V0z\" fill=\"none\"/>\n",
              "    <path d=\"M18.56 5.44l.94 2.06.94-2.06 2.06-.94-2.06-.94-.94-2.06-.94 2.06-2.06.94zm-11 1L8.5 8.5l.94-2.06 2.06-.94-2.06-.94L8.5 2.5l-.94 2.06-2.06.94zm10 10l.94 2.06.94-2.06 2.06-.94-2.06-.94-.94-2.06-.94 2.06-2.06.94z\"/><path d=\"M17.41 7.96l-1.37-1.37c-.4-.4-.92-.59-1.43-.59-.52 0-1.04.2-1.43.59L10.3 9.45l-7.72 7.72c-.78.78-.78 2.05 0 2.83L4 21.41c.39.39.9.59 1.41.59.51 0 1.02-.2 1.41-.59l7.78-7.78 2.81-2.81c.8-.78.8-2.07 0-2.86zM5.41 20L4 18.59l7.72-7.72 1.47 1.35L5.41 20z\"/>\n",
              "  </svg>\n",
              "      </button>\n",
              "      \n",
              "  <style>\n",
              "    .colab-df-container {\n",
              "      display:flex;\n",
              "      flex-wrap:wrap;\n",
              "      gap: 12px;\n",
              "    }\n",
              "\n",
              "    .colab-df-convert {\n",
              "      background-color: #E8F0FE;\n",
              "      border: none;\n",
              "      border-radius: 50%;\n",
              "      cursor: pointer;\n",
              "      display: none;\n",
              "      fill: #1967D2;\n",
              "      height: 32px;\n",
              "      padding: 0 0 0 0;\n",
              "      width: 32px;\n",
              "    }\n",
              "\n",
              "    .colab-df-convert:hover {\n",
              "      background-color: #E2EBFA;\n",
              "      box-shadow: 0px 1px 2px rgba(60, 64, 67, 0.3), 0px 1px 3px 1px rgba(60, 64, 67, 0.15);\n",
              "      fill: #174EA6;\n",
              "    }\n",
              "\n",
              "    [theme=dark] .colab-df-convert {\n",
              "      background-color: #3B4455;\n",
              "      fill: #D2E3FC;\n",
              "    }\n",
              "\n",
              "    [theme=dark] .colab-df-convert:hover {\n",
              "      background-color: #434B5C;\n",
              "      box-shadow: 0px 1px 3px 1px rgba(0, 0, 0, 0.15);\n",
              "      filter: drop-shadow(0px 1px 2px rgba(0, 0, 0, 0.3));\n",
              "      fill: #FFFFFF;\n",
              "    }\n",
              "  </style>\n",
              "\n",
              "      <script>\n",
              "        const buttonEl =\n",
              "          document.querySelector('#df-93e1570a-7b4a-45e5-b3be-e46ab4cafe9e button.colab-df-convert');\n",
              "        buttonEl.style.display =\n",
              "          google.colab.kernel.accessAllowed ? 'block' : 'none';\n",
              "\n",
              "        async function convertToInteractive(key) {\n",
              "          const element = document.querySelector('#df-93e1570a-7b4a-45e5-b3be-e46ab4cafe9e');\n",
              "          const dataTable =\n",
              "            await google.colab.kernel.invokeFunction('convertToInteractive',\n",
              "                                                     [key], {});\n",
              "          if (!dataTable) return;\n",
              "\n",
              "          const docLinkHtml = 'Like what you see? Visit the ' +\n",
              "            '<a target=\"_blank\" href=https://colab.research.google.com/notebooks/data_table.ipynb>data table notebook</a>'\n",
              "            + ' to learn more about interactive tables.';\n",
              "          element.innerHTML = '';\n",
              "          dataTable['output_type'] = 'display_data';\n",
              "          await google.colab.output.renderOutput(dataTable, element);\n",
              "          const docLink = document.createElement('div');\n",
              "          docLink.innerHTML = docLinkHtml;\n",
              "          element.appendChild(docLink);\n",
              "        }\n",
              "      </script>\n",
              "    </div>\n",
              "  </div>\n",
              "  "
            ]
          },
          "metadata": {},
          "execution_count": 3
        }
      ],
      "source": [
        "dataset = pd.read_csv('/content/drive/MyDrive/Colab Notebooks/clientes.csv')\n",
        "dataset.head(5)"
      ]
    },
    {
      "cell_type": "markdown",
      "source": [
        "### Mostrar los nombres de las columnas y las dimensiones del dataset"
      ],
      "metadata": {
        "id": "g4N9wm7Wa3Jq"
      }
    },
    {
      "cell_type": "code",
      "execution_count": null,
      "metadata": {
        "colab": {
          "base_uri": "https://localhost:8080/"
        },
        "id": "2VanX354ldDk",
        "outputId": "121138e2-21db-4aa8-b4c0-fc7f2799bce4"
      },
      "outputs": [
        {
          "output_type": "stream",
          "name": "stdout",
          "text": [
            "Las dimensiones del dataset (1012, 12)\n",
            "El nombre de las columnas del dataset son Index(['region', 'antiguedad', 'edad', 'estado_civil', 'direccion', 'ingresos',\n",
            "       'educacion', 'uso', 'retiro', 'sexo', 'res', 'categoria'],\n",
            "      dtype='object')\n"
          ]
        }
      ],
      "source": [
        "print('Las dimensiones del dataset',dataset.shape)\n",
        "print('El nombre de las columnas del dataset son', dataset.columns)"
      ]
    },
    {
      "cell_type": "markdown",
      "source": [
        "### Eliminar las filas con valores perdidos (NaN). Mostrar las nuevas dimensiones."
      ],
      "metadata": {
        "id": "EP8Tuf6sbjvD"
      }
    },
    {
      "cell_type": "code",
      "source": [
        "dataset = dataset.dropna()\n",
        "print('Las dimensiones del dataset',dataset.shape)"
      ],
      "metadata": {
        "colab": {
          "base_uri": "https://localhost:8080/"
        },
        "id": "3Qttr5v5n382",
        "outputId": "2afcb929-8459-49d3-b26d-bd70530065ae"
      },
      "execution_count": null,
      "outputs": [
        {
          "output_type": "stream",
          "name": "stdout",
          "text": [
            "Las dimensiones del dataset (1007, 12)\n"
          ]
        }
      ]
    },
    {
      "cell_type": "markdown",
      "source": [
        "### Mostrar los distintos valores de la columna objetivo ('*categoria*') y el número de ocurrencias de cada uno"
      ],
      "metadata": {
        "id": "olPkuQ37b4CX"
      }
    },
    {
      "cell_type": "code",
      "execution_count": null,
      "metadata": {
        "colab": {
          "base_uri": "https://localhost:8080/"
        },
        "id": "pNaE_KaEldDl",
        "outputId": "003cf324-89ad-404d-c8c2-6296edcc5ace"
      },
      "outputs": [
        {
          "output_type": "stream",
          "name": "stdout",
          "text": [
            "3    283\n",
            "1    270\n",
            "4    237\n",
            "2    217\n",
            "Name: categoria, dtype: int64\n"
          ]
        }
      ],
      "source": [
        "counts = dataset['categoria'].value_counts()\n",
        "print(counts)"
      ]
    },
    {
      "cell_type": "markdown",
      "source": [
        "### Crear un dataset con las variables de entrada a partir del dataset anterior, eliminando la columnna *categoria*. Mostrar las 5 primeras líneas."
      ],
      "metadata": {
        "id": "hYNnBSfdcJSy"
      }
    },
    {
      "cell_type": "code",
      "execution_count": null,
      "metadata": {
        "colab": {
          "base_uri": "https://localhost:8080/",
          "height": 206
        },
        "id": "cUXQS0W7ldDm",
        "outputId": "87b24903-9eec-44ca-a01a-a4e201133a26"
      },
      "outputs": [
        {
          "output_type": "execute_result",
          "data": {
            "text/plain": [
              "   region  antiguedad  edad estado_civil  direccion  ingresos  educacion  \\\n",
              "0     2.0        13.0    44           Sí        9.0      64.0          4   \n",
              "1     3.0        11.0    33           Sí        7.0     136.0          5   \n",
              "2     3.0        68.0    52            1       24.0     116.0          1   \n",
              "3     2.0        33.0    33            0       12.0      33.0          2   \n",
              "4     2.0        23.0    30            1        9.0      30.0          1   \n",
              "\n",
              "    uso  retiro  sexo  res  \n",
              "0   5.0     0.0     0    2  \n",
              "1   5.0     0.0     0    6  \n",
              "2  29.0     0.0     1    2  \n",
              "3   0.0     0.0     1    1  \n",
              "4   2.0     0.0     0    4  "
            ],
            "text/html": [
              "\n",
              "  <div id=\"df-f51074f9-a98b-4c07-9141-96071ea6764d\">\n",
              "    <div class=\"colab-df-container\">\n",
              "      <div>\n",
              "<style scoped>\n",
              "    .dataframe tbody tr th:only-of-type {\n",
              "        vertical-align: middle;\n",
              "    }\n",
              "\n",
              "    .dataframe tbody tr th {\n",
              "        vertical-align: top;\n",
              "    }\n",
              "\n",
              "    .dataframe thead th {\n",
              "        text-align: right;\n",
              "    }\n",
              "</style>\n",
              "<table border=\"1\" class=\"dataframe\">\n",
              "  <thead>\n",
              "    <tr style=\"text-align: right;\">\n",
              "      <th></th>\n",
              "      <th>region</th>\n",
              "      <th>antiguedad</th>\n",
              "      <th>edad</th>\n",
              "      <th>estado_civil</th>\n",
              "      <th>direccion</th>\n",
              "      <th>ingresos</th>\n",
              "      <th>educacion</th>\n",
              "      <th>uso</th>\n",
              "      <th>retiro</th>\n",
              "      <th>sexo</th>\n",
              "      <th>res</th>\n",
              "    </tr>\n",
              "  </thead>\n",
              "  <tbody>\n",
              "    <tr>\n",
              "      <th>0</th>\n",
              "      <td>2.0</td>\n",
              "      <td>13.0</td>\n",
              "      <td>44</td>\n",
              "      <td>Sí</td>\n",
              "      <td>9.0</td>\n",
              "      <td>64.0</td>\n",
              "      <td>4</td>\n",
              "      <td>5.0</td>\n",
              "      <td>0.0</td>\n",
              "      <td>0</td>\n",
              "      <td>2</td>\n",
              "    </tr>\n",
              "    <tr>\n",
              "      <th>1</th>\n",
              "      <td>3.0</td>\n",
              "      <td>11.0</td>\n",
              "      <td>33</td>\n",
              "      <td>Sí</td>\n",
              "      <td>7.0</td>\n",
              "      <td>136.0</td>\n",
              "      <td>5</td>\n",
              "      <td>5.0</td>\n",
              "      <td>0.0</td>\n",
              "      <td>0</td>\n",
              "      <td>6</td>\n",
              "    </tr>\n",
              "    <tr>\n",
              "      <th>2</th>\n",
              "      <td>3.0</td>\n",
              "      <td>68.0</td>\n",
              "      <td>52</td>\n",
              "      <td>1</td>\n",
              "      <td>24.0</td>\n",
              "      <td>116.0</td>\n",
              "      <td>1</td>\n",
              "      <td>29.0</td>\n",
              "      <td>0.0</td>\n",
              "      <td>1</td>\n",
              "      <td>2</td>\n",
              "    </tr>\n",
              "    <tr>\n",
              "      <th>3</th>\n",
              "      <td>2.0</td>\n",
              "      <td>33.0</td>\n",
              "      <td>33</td>\n",
              "      <td>0</td>\n",
              "      <td>12.0</td>\n",
              "      <td>33.0</td>\n",
              "      <td>2</td>\n",
              "      <td>0.0</td>\n",
              "      <td>0.0</td>\n",
              "      <td>1</td>\n",
              "      <td>1</td>\n",
              "    </tr>\n",
              "    <tr>\n",
              "      <th>4</th>\n",
              "      <td>2.0</td>\n",
              "      <td>23.0</td>\n",
              "      <td>30</td>\n",
              "      <td>1</td>\n",
              "      <td>9.0</td>\n",
              "      <td>30.0</td>\n",
              "      <td>1</td>\n",
              "      <td>2.0</td>\n",
              "      <td>0.0</td>\n",
              "      <td>0</td>\n",
              "      <td>4</td>\n",
              "    </tr>\n",
              "  </tbody>\n",
              "</table>\n",
              "</div>\n",
              "      <button class=\"colab-df-convert\" onclick=\"convertToInteractive('df-f51074f9-a98b-4c07-9141-96071ea6764d')\"\n",
              "              title=\"Convert this dataframe to an interactive table.\"\n",
              "              style=\"display:none;\">\n",
              "        \n",
              "  <svg xmlns=\"http://www.w3.org/2000/svg\" height=\"24px\"viewBox=\"0 0 24 24\"\n",
              "       width=\"24px\">\n",
              "    <path d=\"M0 0h24v24H0V0z\" fill=\"none\"/>\n",
              "    <path d=\"M18.56 5.44l.94 2.06.94-2.06 2.06-.94-2.06-.94-.94-2.06-.94 2.06-2.06.94zm-11 1L8.5 8.5l.94-2.06 2.06-.94-2.06-.94L8.5 2.5l-.94 2.06-2.06.94zm10 10l.94 2.06.94-2.06 2.06-.94-2.06-.94-.94-2.06-.94 2.06-2.06.94z\"/><path d=\"M17.41 7.96l-1.37-1.37c-.4-.4-.92-.59-1.43-.59-.52 0-1.04.2-1.43.59L10.3 9.45l-7.72 7.72c-.78.78-.78 2.05 0 2.83L4 21.41c.39.39.9.59 1.41.59.51 0 1.02-.2 1.41-.59l7.78-7.78 2.81-2.81c.8-.78.8-2.07 0-2.86zM5.41 20L4 18.59l7.72-7.72 1.47 1.35L5.41 20z\"/>\n",
              "  </svg>\n",
              "      </button>\n",
              "      \n",
              "  <style>\n",
              "    .colab-df-container {\n",
              "      display:flex;\n",
              "      flex-wrap:wrap;\n",
              "      gap: 12px;\n",
              "    }\n",
              "\n",
              "    .colab-df-convert {\n",
              "      background-color: #E8F0FE;\n",
              "      border: none;\n",
              "      border-radius: 50%;\n",
              "      cursor: pointer;\n",
              "      display: none;\n",
              "      fill: #1967D2;\n",
              "      height: 32px;\n",
              "      padding: 0 0 0 0;\n",
              "      width: 32px;\n",
              "    }\n",
              "\n",
              "    .colab-df-convert:hover {\n",
              "      background-color: #E2EBFA;\n",
              "      box-shadow: 0px 1px 2px rgba(60, 64, 67, 0.3), 0px 1px 3px 1px rgba(60, 64, 67, 0.15);\n",
              "      fill: #174EA6;\n",
              "    }\n",
              "\n",
              "    [theme=dark] .colab-df-convert {\n",
              "      background-color: #3B4455;\n",
              "      fill: #D2E3FC;\n",
              "    }\n",
              "\n",
              "    [theme=dark] .colab-df-convert:hover {\n",
              "      background-color: #434B5C;\n",
              "      box-shadow: 0px 1px 3px 1px rgba(0, 0, 0, 0.15);\n",
              "      filter: drop-shadow(0px 1px 2px rgba(0, 0, 0, 0.3));\n",
              "      fill: #FFFFFF;\n",
              "    }\n",
              "  </style>\n",
              "\n",
              "      <script>\n",
              "        const buttonEl =\n",
              "          document.querySelector('#df-f51074f9-a98b-4c07-9141-96071ea6764d button.colab-df-convert');\n",
              "        buttonEl.style.display =\n",
              "          google.colab.kernel.accessAllowed ? 'block' : 'none';\n",
              "\n",
              "        async function convertToInteractive(key) {\n",
              "          const element = document.querySelector('#df-f51074f9-a98b-4c07-9141-96071ea6764d');\n",
              "          const dataTable =\n",
              "            await google.colab.kernel.invokeFunction('convertToInteractive',\n",
              "                                                     [key], {});\n",
              "          if (!dataTable) return;\n",
              "\n",
              "          const docLinkHtml = 'Like what you see? Visit the ' +\n",
              "            '<a target=\"_blank\" href=https://colab.research.google.com/notebooks/data_table.ipynb>data table notebook</a>'\n",
              "            + ' to learn more about interactive tables.';\n",
              "          element.innerHTML = '';\n",
              "          dataTable['output_type'] = 'display_data';\n",
              "          await google.colab.output.renderOutput(dataTable, element);\n",
              "          const docLink = document.createElement('div');\n",
              "          docLink.innerHTML = docLinkHtml;\n",
              "          element.appendChild(docLink);\n",
              "        }\n",
              "      </script>\n",
              "    </div>\n",
              "  </div>\n",
              "  "
            ]
          },
          "metadata": {},
          "execution_count": 7
        }
      ],
      "source": [
        "X = dataset.drop(['categoria'], axis=1)\n",
        "X.head(5)"
      ]
    },
    {
      "cell_type": "markdown",
      "source": [
        "### Construcción de la salida (columna *categoria*). Mostrar diferentes valores que puede tomar.  "
      ],
      "metadata": {
        "id": "SYVOH_-ecPnv"
      }
    },
    {
      "cell_type": "code",
      "execution_count": null,
      "metadata": {
        "colab": {
          "base_uri": "https://localhost:8080/"
        },
        "id": "jvZRq_RhldDn",
        "outputId": "c5f67ce8-387d-45fc-d6a1-45a57f98a711"
      },
      "outputs": [
        {
          "output_type": "execute_result",
          "data": {
            "text/plain": [
              "array([1, 4, 3, 2])"
            ]
          },
          "metadata": {},
          "execution_count": 8
        }
      ],
      "source": [
        "y = dataset['categoria']\n",
        "y.unique()"
      ]
    },
    {
      "cell_type": "markdown",
      "source": [
        "### Conversión de la columna *estado_civil* en binaria:\n",
        "-  Mostrar los distintos valores que puede tomar\n",
        "-  Reemplazar por 0 ó 1 los valores según corresponda (Sí->1, por ejemplo)\n",
        "-  Comprobar que la columna ya sólo toma valores 0 y 1."
      ],
      "metadata": {
        "id": "3n3EgW2vciof"
      }
    },
    {
      "cell_type": "code",
      "source": [
        "# Valores únicos de la columna\n",
        "X['estado_civil'].unique()"
      ],
      "metadata": {
        "colab": {
          "base_uri": "https://localhost:8080/"
        },
        "id": "Qo2WJhdzmLnW",
        "outputId": "54826380-fac8-41b5-9ee5-f90c9d51c1a2"
      },
      "execution_count": null,
      "outputs": [
        {
          "output_type": "execute_result",
          "data": {
            "text/plain": [
              "array(['Sí', '1', '0', 'Yes', 'No'], dtype=object)"
            ]
          },
          "metadata": {},
          "execution_count": 9
        }
      ]
    },
    {
      "cell_type": "code",
      "source": [
        "# reemplazo de los valores por 0 y 1\n",
        "X['estado_civil'] = X['estado_civil'].replace({'Sí': 1, 'Yes':1, '1':1, '0':0,'No': 0})"
      ],
      "metadata": {
        "id": "ArOa2-bcmXAg"
      },
      "execution_count": null,
      "outputs": []
    },
    {
      "cell_type": "code",
      "source": [
        "# comprobación del reemplazo\n",
        "X['estado_civil'].unique()"
      ],
      "metadata": {
        "colab": {
          "base_uri": "https://localhost:8080/"
        },
        "id": "HlgNVPG7nGjH",
        "outputId": "51c147a0-d894-4881-cc09-1c4265004b7f"
      },
      "execution_count": null,
      "outputs": [
        {
          "output_type": "execute_result",
          "data": {
            "text/plain": [
              "array([1, 0])"
            ]
          },
          "metadata": {},
          "execution_count": 11
        }
      ]
    },
    {
      "cell_type": "markdown",
      "source": [
        "### Estandarización de las entradas: Transformar todas las entradas al tipo *float*, crear un StandarScaler, entrenarlo y aplicárlo a todas las entradas."
      ],
      "metadata": {
        "id": "bqojgNBxdNs5"
      }
    },
    {
      "cell_type": "code",
      "execution_count": null,
      "metadata": {
        "id": "uWKrvEvkldDo"
      },
      "outputs": [],
      "source": [
        "# primero pasamos los datos a tipo int o tipo float obligatoriamente para poder hacer el Standar Scaler\n",
        "X= X.astype(float)\n",
        "# esto lo que nos permite es obtener los datos de forma adimensional, y por tanto podemos compararlos entre ellos. Para ello restamos a cada valor la media y lo dividimos entre la desviación típica (de su tipo)\n",
        "from sklearn.preprocessing import StandardScaler\n",
        "sc = StandardScaler()\n",
        "sc.fit(X)\n",
        "estandarizados = sc.transform(X)"
      ]
    },
    {
      "cell_type": "markdown",
      "source": [
        "### Construir los conjuntos de entrenamiento (80%) y validación (20%). Mostar las dimensiones de las entradas y las salidas de ambos conjuntos."
      ],
      "metadata": {
        "id": "nXk8DZ6tdW7I"
      }
    },
    {
      "cell_type": "code",
      "execution_count": null,
      "metadata": {
        "colab": {
          "base_uri": "https://localhost:8080/"
        },
        "id": "1x1und2zldDo",
        "outputId": "1bab059c-5189-4daa-ad2f-dbf928fdc7c0"
      },
      "outputs": [
        {
          "output_type": "stream",
          "name": "stdout",
          "text": [
            "Las entradas de entrenamiento son (805, 11)\n",
            "Las salidas de entrenamiento son (805,)\n",
            "Las salidas de entrenamiento son (202, 11)\n",
            "Las salidas de validación son (202,)\n"
          ]
        }
      ],
      "source": [
        "from sklearn.model_selection import train_test_split\n",
        "X_train, X_test, y_train, y_test = train_test_split(X, y, test_size=0.2, random_state=42)\n",
        "print('Las entradas de entrenamiento son', X_train.shape)\n",
        "print('Las salidas de entrenamiento son', y_train.shape)\n",
        "print('Las salidas de entrenamiento son', X_test.shape)\n",
        "print('Las salidas de validación son', y_test.shape)"
      ]
    },
    {
      "cell_type": "markdown",
      "source": [
        "### Crear un clasificador KNN de 40 vecinos y entrenarlo con los datos del conjunto de entrenamiento"
      ],
      "metadata": {
        "id": "BbW8Nv7xd97c"
      }
    },
    {
      "cell_type": "code",
      "execution_count": null,
      "metadata": {
        "id": "A6csU4ABldDp",
        "colab": {
          "base_uri": "https://localhost:8080/",
          "height": 75
        },
        "outputId": "ee633aa1-3157-4a9a-ded5-d18f20df554b"
      },
      "outputs": [
        {
          "output_type": "execute_result",
          "data": {
            "text/plain": [
              "KNeighborsClassifier(n_neighbors=40)"
            ],
            "text/html": [
              "<style>#sk-container-id-1 {color: black;background-color: white;}#sk-container-id-1 pre{padding: 0;}#sk-container-id-1 div.sk-toggleable {background-color: white;}#sk-container-id-1 label.sk-toggleable__label {cursor: pointer;display: block;width: 100%;margin-bottom: 0;padding: 0.3em;box-sizing: border-box;text-align: center;}#sk-container-id-1 label.sk-toggleable__label-arrow:before {content: \"▸\";float: left;margin-right: 0.25em;color: #696969;}#sk-container-id-1 label.sk-toggleable__label-arrow:hover:before {color: black;}#sk-container-id-1 div.sk-estimator:hover label.sk-toggleable__label-arrow:before {color: black;}#sk-container-id-1 div.sk-toggleable__content {max-height: 0;max-width: 0;overflow: hidden;text-align: left;background-color: #f0f8ff;}#sk-container-id-1 div.sk-toggleable__content pre {margin: 0.2em;color: black;border-radius: 0.25em;background-color: #f0f8ff;}#sk-container-id-1 input.sk-toggleable__control:checked~div.sk-toggleable__content {max-height: 200px;max-width: 100%;overflow: auto;}#sk-container-id-1 input.sk-toggleable__control:checked~label.sk-toggleable__label-arrow:before {content: \"▾\";}#sk-container-id-1 div.sk-estimator input.sk-toggleable__control:checked~label.sk-toggleable__label {background-color: #d4ebff;}#sk-container-id-1 div.sk-label input.sk-toggleable__control:checked~label.sk-toggleable__label {background-color: #d4ebff;}#sk-container-id-1 input.sk-hidden--visually {border: 0;clip: rect(1px 1px 1px 1px);clip: rect(1px, 1px, 1px, 1px);height: 1px;margin: -1px;overflow: hidden;padding: 0;position: absolute;width: 1px;}#sk-container-id-1 div.sk-estimator {font-family: monospace;background-color: #f0f8ff;border: 1px dotted black;border-radius: 0.25em;box-sizing: border-box;margin-bottom: 0.5em;}#sk-container-id-1 div.sk-estimator:hover {background-color: #d4ebff;}#sk-container-id-1 div.sk-parallel-item::after {content: \"\";width: 100%;border-bottom: 1px solid gray;flex-grow: 1;}#sk-container-id-1 div.sk-label:hover label.sk-toggleable__label {background-color: #d4ebff;}#sk-container-id-1 div.sk-serial::before {content: \"\";position: absolute;border-left: 1px solid gray;box-sizing: border-box;top: 0;bottom: 0;left: 50%;z-index: 0;}#sk-container-id-1 div.sk-serial {display: flex;flex-direction: column;align-items: center;background-color: white;padding-right: 0.2em;padding-left: 0.2em;position: relative;}#sk-container-id-1 div.sk-item {position: relative;z-index: 1;}#sk-container-id-1 div.sk-parallel {display: flex;align-items: stretch;justify-content: center;background-color: white;position: relative;}#sk-container-id-1 div.sk-item::before, #sk-container-id-1 div.sk-parallel-item::before {content: \"\";position: absolute;border-left: 1px solid gray;box-sizing: border-box;top: 0;bottom: 0;left: 50%;z-index: -1;}#sk-container-id-1 div.sk-parallel-item {display: flex;flex-direction: column;z-index: 1;position: relative;background-color: white;}#sk-container-id-1 div.sk-parallel-item:first-child::after {align-self: flex-end;width: 50%;}#sk-container-id-1 div.sk-parallel-item:last-child::after {align-self: flex-start;width: 50%;}#sk-container-id-1 div.sk-parallel-item:only-child::after {width: 0;}#sk-container-id-1 div.sk-dashed-wrapped {border: 1px dashed gray;margin: 0 0.4em 0.5em 0.4em;box-sizing: border-box;padding-bottom: 0.4em;background-color: white;}#sk-container-id-1 div.sk-label label {font-family: monospace;font-weight: bold;display: inline-block;line-height: 1.2em;}#sk-container-id-1 div.sk-label-container {text-align: center;}#sk-container-id-1 div.sk-container {/* jupyter's `normalize.less` sets `[hidden] { display: none; }` but bootstrap.min.css set `[hidden] { display: none !important; }` so we also need the `!important` here to be able to override the default hidden behavior on the sphinx rendered scikit-learn.org. See: https://github.com/scikit-learn/scikit-learn/issues/21755 */display: inline-block !important;position: relative;}#sk-container-id-1 div.sk-text-repr-fallback {display: none;}</style><div id=\"sk-container-id-1\" class=\"sk-top-container\"><div class=\"sk-text-repr-fallback\"><pre>KNeighborsClassifier(n_neighbors=40)</pre><b>In a Jupyter environment, please rerun this cell to show the HTML representation or trust the notebook. <br />On GitHub, the HTML representation is unable to render, please try loading this page with nbviewer.org.</b></div><div class=\"sk-container\" hidden><div class=\"sk-item\"><div class=\"sk-estimator sk-toggleable\"><input class=\"sk-toggleable__control sk-hidden--visually\" id=\"sk-estimator-id-1\" type=\"checkbox\" checked><label for=\"sk-estimator-id-1\" class=\"sk-toggleable__label sk-toggleable__label-arrow\">KNeighborsClassifier</label><div class=\"sk-toggleable__content\"><pre>KNeighborsClassifier(n_neighbors=40)</pre></div></div></div></div></div>"
            ]
          },
          "metadata": {},
          "execution_count": 14
        }
      ],
      "source": [
        "from sklearn.neighbors import KNeighborsClassifier\n",
        "classifier = KNeighborsClassifier(n_neighbors = 40)\n",
        "classifier.fit(X_train, y_train)"
      ]
    },
    {
      "cell_type": "markdown",
      "source": [
        "### Obtener las predicciones para las entradas de validación. Usando `metrics.accuracy_score` sobre los datos de validación, obtener la medida de precisión (*accuracy*) del clasificador."
      ],
      "metadata": {
        "id": "4sGjkVVbeYzv"
      }
    },
    {
      "cell_type": "code",
      "execution_count": null,
      "metadata": {
        "id": "ECKzzhSIldDq",
        "colab": {
          "base_uri": "https://localhost:8080/"
        },
        "outputId": "00ce819e-8a6c-4985-85ec-158baefa61e5"
      },
      "outputs": [
        {
          "output_type": "stream",
          "name": "stdout",
          "text": [
            "Exactitud: 0.3217821782178218\n"
          ]
        }
      ],
      "source": [
        "from sklearn import metrics\n",
        "from sklearn.metrics import accuracy_score\n",
        "\n",
        "# Obtener las predicciones para los datos de validación\n",
        "y_pred = classifier.predict(X_test)\n",
        "\n",
        "# Calcular la medida de precisión\n",
        "ac = accuracy_score(y_test, y_pred)\n",
        "print(\"Exactitud:\",ac)\n",
        "\n",
        "#no me da lo mismo"
      ]
    },
    {
      "cell_type": "markdown",
      "source": [
        "### Búscar del número óptimo de vecinos:\n",
        "-  Por medio de un bucle, hacer que una variable vaya de 1 a 100\n",
        "-  Dentro de ese bucle, crear un clasificador KNN donde el número de vecinos viene dado por la variable anterior\n",
        "-  Entrenar el clasificador\n",
        "-  Obtener la predicción para las entradas de validación\n",
        "-  Calcula la exactitud (*accuracy*) de esta predicción y guárdala en una lista"
      ],
      "metadata": {
        "id": "I16iXUQGetHz"
      }
    },
    {
      "cell_type": "code",
      "execution_count": null,
      "metadata": {
        "id": "tFBmwAeYldDu",
        "colab": {
          "base_uri": "https://localhost:8080/"
        },
        "outputId": "b47f3043-3ea7-4c2c-eb03-4e5a355e7bc3"
      },
      "outputs": [
        {
          "output_type": "stream",
          "name": "stdout",
          "text": [
            "Vecinos: 1, Exactitud: 0.3217821782178218\n",
            "Vecinos: 2, Exactitud: 0.29207920792079206\n",
            "Vecinos: 3, Exactitud: 0.3217821782178218\n",
            "Vecinos: 4, Exactitud: 0.3217821782178218\n",
            "Vecinos: 5, Exactitud: 0.32673267326732675\n",
            "Vecinos: 6, Exactitud: 0.3069306930693069\n",
            "Vecinos: 7, Exactitud: 0.3316831683168317\n",
            "Vecinos: 8, Exactitud: 0.297029702970297\n",
            "Vecinos: 9, Exactitud: 0.3069306930693069\n",
            "Vecinos: 10, Exactitud: 0.3069306930693069\n",
            "Vecinos: 11, Exactitud: 0.30198019801980197\n",
            "Vecinos: 12, Exactitud: 0.30198019801980197\n",
            "Vecinos: 13, Exactitud: 0.31683168316831684\n",
            "Vecinos: 14, Exactitud: 0.29207920792079206\n",
            "Vecinos: 15, Exactitud: 0.33663366336633666\n",
            "Vecinos: 16, Exactitud: 0.3415841584158416\n",
            "Vecinos: 17, Exactitud: 0.3465346534653465\n",
            "Vecinos: 18, Exactitud: 0.3465346534653465\n",
            "Vecinos: 19, Exactitud: 0.3415841584158416\n",
            "Vecinos: 20, Exactitud: 0.3415841584158416\n",
            "Vecinos: 21, Exactitud: 0.3316831683168317\n",
            "Vecinos: 22, Exactitud: 0.3415841584158416\n",
            "Vecinos: 23, Exactitud: 0.35148514851485146\n",
            "Vecinos: 24, Exactitud: 0.3465346534653465\n",
            "Vecinos: 25, Exactitud: 0.3613861386138614\n",
            "Vecinos: 26, Exactitud: 0.3465346534653465\n",
            "Vecinos: 27, Exactitud: 0.35148514851485146\n",
            "Vecinos: 28, Exactitud: 0.35148514851485146\n",
            "Vecinos: 29, Exactitud: 0.3465346534653465\n",
            "Vecinos: 30, Exactitud: 0.3415841584158416\n",
            "Vecinos: 31, Exactitud: 0.3316831683168317\n",
            "Vecinos: 32, Exactitud: 0.3069306930693069\n",
            "Vecinos: 33, Exactitud: 0.3415841584158416\n",
            "Vecinos: 34, Exactitud: 0.31683168316831684\n",
            "Vecinos: 35, Exactitud: 0.31683168316831684\n",
            "Vecinos: 36, Exactitud: 0.3118811881188119\n",
            "Vecinos: 37, Exactitud: 0.31683168316831684\n",
            "Vecinos: 38, Exactitud: 0.3217821782178218\n",
            "Vecinos: 39, Exactitud: 0.33663366336633666\n",
            "Vecinos: 40, Exactitud: 0.3217821782178218\n",
            "Vecinos: 41, Exactitud: 0.35148514851485146\n",
            "Vecinos: 42, Exactitud: 0.36633663366336633\n",
            "Vecinos: 43, Exactitud: 0.3613861386138614\n",
            "Vecinos: 44, Exactitud: 0.3613861386138614\n",
            "Vecinos: 45, Exactitud: 0.3564356435643564\n",
            "Vecinos: 46, Exactitud: 0.36633663366336633\n",
            "Vecinos: 47, Exactitud: 0.36633663366336633\n",
            "Vecinos: 48, Exactitud: 0.3712871287128713\n",
            "Vecinos: 49, Exactitud: 0.3613861386138614\n",
            "Vecinos: 50, Exactitud: 0.3712871287128713\n",
            "Vecinos: 51, Exactitud: 0.3712871287128713\n",
            "Vecinos: 52, Exactitud: 0.3712871287128713\n",
            "Vecinos: 53, Exactitud: 0.3712871287128713\n",
            "Vecinos: 54, Exactitud: 0.37623762376237624\n",
            "Vecinos: 55, Exactitud: 0.38613861386138615\n",
            "Vecinos: 56, Exactitud: 0.38613861386138615\n",
            "Vecinos: 57, Exactitud: 0.3811881188118812\n",
            "Vecinos: 58, Exactitud: 0.37623762376237624\n",
            "Vecinos: 59, Exactitud: 0.3811881188118812\n",
            "Vecinos: 60, Exactitud: 0.3564356435643564\n",
            "Vecinos: 61, Exactitud: 0.35148514851485146\n",
            "Vecinos: 62, Exactitud: 0.3564356435643564\n",
            "Vecinos: 63, Exactitud: 0.35148514851485146\n",
            "Vecinos: 64, Exactitud: 0.37623762376237624\n",
            "Vecinos: 65, Exactitud: 0.37623762376237624\n",
            "Vecinos: 66, Exactitud: 0.3910891089108911\n",
            "Vecinos: 67, Exactitud: 0.3712871287128713\n",
            "Vecinos: 68, Exactitud: 0.3811881188118812\n",
            "Vecinos: 69, Exactitud: 0.400990099009901\n",
            "Vecinos: 70, Exactitud: 0.3910891089108911\n",
            "Vecinos: 71, Exactitud: 0.38613861386138615\n",
            "Vecinos: 72, Exactitud: 0.38613861386138615\n",
            "Vecinos: 73, Exactitud: 0.3910891089108911\n",
            "Vecinos: 74, Exactitud: 0.37623762376237624\n",
            "Vecinos: 75, Exactitud: 0.400990099009901\n",
            "Vecinos: 76, Exactitud: 0.3811881188118812\n",
            "Vecinos: 77, Exactitud: 0.3811881188118812\n",
            "Vecinos: 78, Exactitud: 0.37623762376237624\n",
            "Vecinos: 79, Exactitud: 0.3910891089108911\n",
            "Vecinos: 80, Exactitud: 0.400990099009901\n",
            "Vecinos: 81, Exactitud: 0.38613861386138615\n",
            "Vecinos: 82, Exactitud: 0.37623762376237624\n",
            "Vecinos: 83, Exactitud: 0.3811881188118812\n",
            "Vecinos: 84, Exactitud: 0.400990099009901\n",
            "Vecinos: 85, Exactitud: 0.39603960396039606\n",
            "Vecinos: 86, Exactitud: 0.39603960396039606\n",
            "Vecinos: 87, Exactitud: 0.40594059405940597\n",
            "Vecinos: 88, Exactitud: 0.40594059405940597\n",
            "Vecinos: 89, Exactitud: 0.40594059405940597\n",
            "Vecinos: 90, Exactitud: 0.39603960396039606\n",
            "Vecinos: 91, Exactitud: 0.3910891089108911\n",
            "Vecinos: 92, Exactitud: 0.39603960396039606\n",
            "Vecinos: 93, Exactitud: 0.38613861386138615\n",
            "Vecinos: 94, Exactitud: 0.3811881188118812\n",
            "Vecinos: 95, Exactitud: 0.3910891089108911\n",
            "Vecinos: 96, Exactitud: 0.41089108910891087\n",
            "Vecinos: 97, Exactitud: 0.40594059405940597\n",
            "Vecinos: 98, Exactitud: 0.40594059405940597\n",
            "Vecinos: 99, Exactitud: 0.38613861386138615\n",
            "Vecinos: 100, Exactitud: 0.3910891089108911\n"
          ]
        }
      ],
      "source": [
        "accuracies = []\n",
        "for k in range(1, 101):\n",
        "    # Crear el clasificador KNN con k vecinos\n",
        "    clasificador = KNeighborsClassifier(n_neighbors=k)\n",
        "\n",
        "    # Entrenar el clasificador con los datos de entrenamiento\n",
        "    clasificador.fit(X_train, y_train)\n",
        "\n",
        "    # Obtener las predicciones para los datos de validación\n",
        "    y_pred = clasificador.predict(X_test)\n",
        "\n",
        "    # Calcular la exactitud (accuracy) de la predicción y guardarla en la lista accuracies\n",
        "    precision = accuracy_score(y_test, y_pred)\n",
        "    accuracies.append(precision)\n",
        "\n",
        "    # Imprimir la precisión para el valor actual de k\n",
        "    print(f\"Vecinos: {k}, Exactitud: {precision}\")"
      ]
    },
    {
      "cell_type": "markdown",
      "source": [
        "### Usando la lista de exactitudes anterior, mostrar por pantalla su máximo y con cuántos vecinos se consigue.\n",
        "\n",
        "### Mostrar gráficamente la evolución de la exactitud con el número de vecinos: crear una gráfica donde se muestre la evolución de la exactitud (*accuracy*) guardada en la lista del punto anterior frente al número de vecinos utilizados en esa predicción."
      ],
      "metadata": {
        "id": "SpWwEwLLfUTZ"
      }
    },
    {
      "cell_type": "code",
      "execution_count": null,
      "metadata": {
        "colab": {
          "base_uri": "https://localhost:8080/",
          "height": 582
        },
        "id": "wyYRJRABldDu",
        "outputId": "07b352f6-ba99-4196-b0b4-85c041355cc5"
      },
      "outputs": [
        {
          "output_type": "stream",
          "name": "stdout",
          "text": [
            "El valor de k que produce la mayor precisión es 96 con una precisión de 0.41\n"
          ]
        },
        {
          "output_type": "display_data",
          "data": {
            "text/plain": [
              "<Figure size 1000x600 with 1 Axes>"
            ],
            "image/png": "[encoded data removed]"
          },
          "metadata": {}
        }
      ],
      "source": [
        "best_acc = max(accuracies)\n",
        "best_k = accuracies.index(best_acc) + 1\n",
        "print(f\"El valor de k que produce la mayor precisión es {best_k} con una precisión de {best_acc:.2f}\")\n",
        "plt.figure(figsize=(10,6))\n",
        "plt.plot(range(1,101), accuracies)\n",
        "plt.title('Exactitud en función del número de vecinos')\n",
        "plt.xlabel('Número de vecinos')\n",
        "plt.ylabel('Exactitud')\n",
        "plt.show()"
      ]
    }
  ],
  "metadata": {
    "kernelspec": {
      "display_name": "Python 3",
      "language": "python",
      "name": "python3"
    },
    "language_info": {
      "codemirror_mode": {
        "name": "ipython",
        "version": 3
      },
      "file_extension": ".py",
      "mimetype": "text/x-python",
      "name": "python",
      "nbconvert_exporter": "python",
      "pygments_lexer": "ipython3",
      "version": "3.7.0"
    },
    "colab": {
      "provenance": []
    }
  },
  "nbformat": 4,
  "nbformat_minor": 0
}